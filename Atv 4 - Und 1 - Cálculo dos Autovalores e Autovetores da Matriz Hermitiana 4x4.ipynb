{
  "cells": [
    {
      "cell_type": "markdown",
      "metadata": {
        "id": "view-in-github",
        "colab_type": "text"
      },
      "source": [
        "<a href=\"https://colab.research.google.com/github/RamonRossaDePaula/Quantum-Mechanics/blob/master/Atv%204%20-%20Und%201%20-%20C%C3%A1lculo%20dos%20Autovalores%20e%20Autovetores%20da%20Matriz%20Hermitiana%204x4.ipynb\" target=\"_parent\"><img src=\"https://colab.research.google.com/assets/colab-badge.svg\" alt=\"Open In Colab\"/></a>"
      ]
    },
    {
      "cell_type": "code",
      "source": [
        "import numpy as np\n",
        "import cmath\n",
        "from numpy import linalg as la"
      ],
      "metadata": {
        "id": "QHj65Irq-OBd"
      },
      "execution_count": 12,
      "outputs": []
    },
    {
      "cell_type": "code",
      "source": [
        "arr = np.array([[3, 2+1j, 1, 0], \n",
        "                [2-1j, 1, 3j, 1+41j], \n",
        "                [1, -31j, 0, 6], \n",
        "                [0, 1-41j, 6, 7]])\n",
        "\n",
        "print(arr)\n",
        "\n",
        "eigvals, eigvecs = la.eig(arr)        # la.eig = calcula os autovalores e autovetores retos de uma matriz quadrada."
      ],
      "metadata": {
        "id": "un8BZPh2_tBm",
        "outputId": "50ec33f5-9051-4b94-bb9d-357446beb3fe",
        "colab": {
          "base_uri": "https://localhost:8080/"
        }
      },
      "execution_count": 46,
      "outputs": [
        {
          "output_type": "stream",
          "name": "stdout",
          "text": [
            "[[ 3. +0.j  2. +1.j  1. +0.j  0. +0.j]\n",
            " [ 2. -1.j  1. +0.j  0. +3.j  1.+41.j]\n",
            " [ 1. +0.j -0.-31.j  0. +0.j  6. +0.j]\n",
            " [ 0. +0.j  1.-41.j  6. +0.j  7. +0.j]]\n"
          ]
        }
      ]
    },
    {
      "cell_type": "code",
      "source": [
        "print(np.round(eigvals, 3))"
      ],
      "metadata": {
        "id": "abcxmhA4AlfV",
        "outputId": "90f0493f-4b99-47b6-b8ce-db968b24332c",
        "colab": {
          "base_uri": "https://localhost:8080/"
        }
      },
      "execution_count": 47,
      "outputs": [
        {
          "output_type": "stream",
          "name": "stdout",
          "text": [
            "[ 48.52 -0.049j -36.172-0.085j   3.169-0.014j  -4.516+0.148j]\n"
          ]
        }
      ]
    },
    {
      "cell_type": "code",
      "source": [
        "print(np.round(eigvecs, 3)) "
      ],
      "metadata": {
        "id": "7yqXD_fyAnW9",
        "outputId": "fc8b1c4f-f792-4672-8709-bf18cb632cf2",
        "colab": {
          "base_uri": "https://localhost:8080/"
        }
      },
      "execution_count": 48,
      "outputs": [
        {
          "output_type": "stream",
          "name": "stdout",
          "text": [
            "[[-0.002+0.026j -0.034-0.029j  0.99 +0.j    -0.146+0.031j]\n",
            " [ 0.014+0.596j  0.668+0.j     0.007-0.021j -0.005-0.126j]\n",
            " [ 0.462-0.008j  0.005+0.479j  0.133+0.021j  0.979+0.j   ]\n",
            " [ 0.656+0.j    -0.015+0.568j  0.012+0.047j -0.06 -0.009j]]\n"
          ]
        }
      ]
    }
  ],
  "metadata": {
    "colab": {
      "collapsed_sections": [],
      "name": "Welcome To Colaboratory",
      "toc_visible": true,
      "provenance": [],
      "include_colab_link": true
    },
    "kernelspec": {
      "display_name": "Python 3",
      "name": "python3"
    }
  },
  "nbformat": 4,
  "nbformat_minor": 0
}